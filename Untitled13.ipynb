{
 "cells": [
  {
   "cell_type": "markdown",
   "metadata": {},
   "source": [
    "# Battle of Neighbourhoods - Week 1\n",
    "This notebook consist of two parts.\n",
    "\n",
    "# 1 Introduction/Business Problem\n",
    "\n",
    "   1.a Discussion of the business problem and the audience who would be interested in this project.\n",
    "\n",
    "# 2 Data Section\n",
    "\n",
    "   2.a What data is used?\n",
    "   2.b Importing Libraries\n",
    "   2.c Credentials and Core location\n",
    "   2.d Search for hotel & restaurant within 1 KM\n",
    "   2.e Location of Hotels\n",
    "# 1. Introduction/Business Problem\n",
    "\n",
    "Discussion of the business problem and the audience who would be interested in this project.\n",
    "Something about the tourist place - KANYAKUMARI,INDIA\n",
    "I am from kanyakumari,a beautiful tourist spot in southern India. Kanyakumari is a coastal town in the state of Tamil Nadu on India's southern tip. Jutting into the Laccadive Sea, the town was known as Cape Comorin during British rule and is popular for watching sunrise and sunset over the ocean.Kanyakumari is also home to the Statue of the Saint Poet Thiruvalluvar, one of the greatest Tamil poets in India. Standing at a massive height of 133 feet, the statue is one of the biggest in the entire Asian subcontinent and is the result of the hard work of over 500 sculptors. Other historic sights that you can visit in Kanyakumari include the Padmanabhapuram Palace, the Vattakottai Fort, and the Gandhi Memorial.\n",
    "\n",
    "### Opening of Hotel/Restaurant \n",
    "Coming down to business problem, I would like to open a hotel/restaurant near beach. As it is a famous tourist spot,there is already lots of attention towards it.I know there will be many competitors in terms of hotel and restaurant and keeping them in mind, I need to locate my hotel in place where more people are attracted and feel comfortable for a stay by providing good ambience and food. I want to target both foreign and local people to my new hotel.\n",
    "\n",
    "The challenge is to find a suitable location for opening a new hotel / restaurant attracted to all local and foreign people in the centre of all famous venues.\n",
    "\n",
    "Expected / Interested Audience:\n",
    "This is a brief EDA around a tourist spot in India, which is Kanyakumari. I have figured out the best spot around the region to open a hotel/restuarant keeping in mind the different dynamics of the place. \n",
    "\n",
    "# 2.Data section\n",
    "## 2.a What data is used?\n",
    "\n",
    "We will be completely working with foursquare data to explore and try to locate our new hotel where more venues like church, temples, beach, museums, memorials that are present nearby.\n",
    "\n",
    "How will we be solving using this data?\n",
    "\n",
    "We will look for midpoint area venues to locate our new hotel. Before that, our major focus will be on all the venues present in and around the core place of kanyakumari.\n",
    "\n",
    "Just a heads up on how many hotels are distributed now around kanyakumari. We will perform Exploratory Data Analysis(EDA) on hotels & restaurants which are present in the tourist spot. In the other notebook we will use foursquare to determine the other venue data and find out the best spot for the hotel/restuarant. "
   ]
  },
  {
   "cell_type": "markdown",
   "metadata": {},
   "source": [
    "## 2.b Importing Libraries"
   ]
  },
  {
   "cell_type": "code",
   "execution_count": 1,
   "metadata": {},
   "outputs": [
    {
     "name": "stdout",
     "output_type": "stream",
     "text": [
      "*********   Loaded library     ***********\n"
     ]
    }
   ],
   "source": [
    "# Import libraries\n",
    "import numpy as np # data in a vectorized manner manipulation\n",
    "import pandas as pd # data analsysis\n",
    "import requests # HTTP library\n",
    "from bs4 import BeautifulSoup # scraping library\n",
    "\n",
    "from pandas.io.json import json_normalize # tranform JSON file into a pandas dataframe\n",
    "import json # JSON files manipulation\n",
    "\n",
    "from sklearn.cluster import KMeans # clustering algorithm\n",
    "\n",
    "pd.set_option('display.max_columns', None)\n",
    "pd.set_option('display.max_rows', None)\n",
    "\n",
    "# Matplotlib and associated plotting modules\n",
    "import matplotlib.cm as cm\n",
    "import matplotlib.colors as colors\n",
    "import matplotlib.pyplot as plt\n",
    "\n",
    "#!conda install -c conda-forge geopy --yes \n",
    "from geopy.geocoders import Nominatim\n",
    "\n",
    "#!conda install -c conda-forge folium=0.5.0 --yes\n",
    "import folium # map rendering library\n",
    "\n",
    "print(\"*********   Loaded library     ***********\")"
   ]
  },
  {
   "cell_type": "markdown",
   "metadata": {},
   "source": [
    "## 2.c Credentials and Core location"
   ]
  },
  {
   "cell_type": "code",
   "execution_count": 2,
   "metadata": {},
   "outputs": [
    {
     "name": "stdout",
     "output_type": "stream",
     "text": [
      "Kanyakumari location : 8.079252,77.5499338\n"
     ]
    }
   ],
   "source": [
    "CLIENT_ID = 'U2BVNFHFUN4FWH5CH3B3TMBYDEBON0IRZFQHAKU4JDNNGL0U' # your Foursquare ID\n",
    "CLIENT_SECRET = 'S5JXWJV3DDC52ZHSDVRUHBCYVYTV4U43IMXERZLDQS2FNG3W' # your Foursquare Secret\n",
    "VERSION = '20191028'\n",
    "LIMIT = 150\n",
    "\n",
    "address = \"Kanyakumari, Tamil Nadu\"\n",
    "\n",
    "geolocator = Nominatim(user_agent=\"foursquare_agent\")\n",
    "location = geolocator.geocode(address)\n",
    "latitude =location.latitude   #8.079252 # location.latitude \n",
    "longitude =location.longitude #77.5499338 # location.longitude # \n",
    "\n",
    "kan='Kanyakumari location : {},{}'.format(latitude,longitude)\n",
    "print(kan)"
   ]
  },
  {
   "cell_type": "markdown",
   "metadata": {},
   "source": [
    "## 2.d Search for hotel & restaurant within 1 KM"
   ]
  },
  {
   "cell_type": "code",
   "execution_count": 3,
   "metadata": {},
   "outputs": [],
   "source": [
    "#Quering for hotel & restaurant\n",
    "\n",
    "search_query = 'hotel'\n",
    "search_query_res = 'restaurant'\n",
    "\n",
    "radius = 1000\n",
    "url_hotel = 'https://api.foursquare.com/v2/venues/search?client_id={}&client_secret={}&ll={},{}&v={}&query={}&radius={}&limit={}'.format(CLIENT_ID, CLIENT_SECRET, latitude, longitude, VERSION, search_query, radius, LIMIT)\n",
    "url_restaurant = 'https://api.foursquare.com/v2/venues/search?client_id={}&client_secret={}&ll={},{}&v={}&query={}&radius={}&limit={}'.format(CLIENT_ID, CLIENT_SECRET, latitude, longitude, VERSION, search_query_res, radius, LIMIT)\n",
    "#url"
   ]
  },
  {
   "cell_type": "markdown",
   "metadata": {},
   "source": [
    "### Send the GET Request of hotel & restaurants and examine the results"
   ]
  },
  {
   "cell_type": "code",
   "execution_count": 4,
   "metadata": {},
   "outputs": [],
   "source": [
    "results_hotel = requests.get(url_hotel).json()\n",
    "results_restaurant = requests.get(url_restaurant).json()\n",
    "#results_hotel"
   ]
  },
  {
   "cell_type": "markdown",
   "metadata": {},
   "source": [
    "### Get relevant part of JSON and transform it into a pandas dataframe"
   ]
  },
  {
   "cell_type": "code",
   "execution_count": 5,
   "metadata": {},
   "outputs": [
    {
     "name": "stdout",
     "output_type": "stream",
     "text": [
      "There are 38 restaurants and hotels at Kanyakumari\n"
     ]
    }
   ],
   "source": [
    "# assign relevant part of JSON to venues\n",
    "venues_hotel = results_hotel['response']['venues']\n",
    "venues_restaurant = results_restaurant['response']['venues']\n",
    "\n",
    "# tranform venues into a dataframe and merging both data\n",
    "dataframe_hotel = json_normalize(venues_hotel)\n",
    "dataframe_restaurant = json_normalize(venues_restaurant)\n",
    "\n",
    "dataframe = pd.concat([dataframe_hotel,dataframe_restaurant])\n",
    "\n",
    "print(\"There are {} restaurants and hotels at Kanyakumari\".format(dataframe.shape[0]))"
   ]
  },
  {
   "cell_type": "markdown",
   "metadata": {},
   "source": [
    "### Define information of interest and filter dataframe"
   ]
  },
  {
   "cell_type": "code",
   "execution_count": 6,
   "metadata": {},
   "outputs": [
    {
     "data": {
      "text/html": [
       "<div>\n",
       "<style scoped>\n",
       "    .dataframe tbody tr th:only-of-type {\n",
       "        vertical-align: middle;\n",
       "    }\n",
       "\n",
       "    .dataframe tbody tr th {\n",
       "        vertical-align: top;\n",
       "    }\n",
       "\n",
       "    .dataframe thead th {\n",
       "        text-align: right;\n",
       "    }\n",
       "</style>\n",
       "<table border=\"1\" class=\"dataframe\">\n",
       "  <thead>\n",
       "    <tr style=\"text-align: right;\">\n",
       "      <th></th>\n",
       "      <th>name</th>\n",
       "      <th>categories</th>\n",
       "      <th>distance</th>\n",
       "      <th>lat</th>\n",
       "      <th>lng</th>\n",
       "      <th>id</th>\n",
       "    </tr>\n",
       "  </thead>\n",
       "  <tbody>\n",
       "    <tr>\n",
       "      <th>0</th>\n",
       "      <td>Hotel SeaView</td>\n",
       "      <td>Hotel</td>\n",
       "      <td>371</td>\n",
       "      <td>8.082333</td>\n",
       "      <td>77.551217</td>\n",
       "      <td>4cd42e2c558a370412d0c5a6</td>\n",
       "    </tr>\n",
       "    <tr>\n",
       "      <th>1</th>\n",
       "      <td>Hotel Sarvana</td>\n",
       "      <td>Hotel</td>\n",
       "      <td>179</td>\n",
       "      <td>8.080581</td>\n",
       "      <td>77.550861</td>\n",
       "      <td>4db052544df03036e8b9d615</td>\n",
       "    </tr>\n",
       "    <tr>\n",
       "      <th>2</th>\n",
       "      <td>Hotel Samudra</td>\n",
       "      <td>Motel</td>\n",
       "      <td>201</td>\n",
       "      <td>8.080642</td>\n",
       "      <td>77.551102</td>\n",
       "      <td>4d3c66e414aa8cfa4641a95e</td>\n",
       "    </tr>\n",
       "    <tr>\n",
       "      <th>3</th>\n",
       "      <td>Hotel Sun World</td>\n",
       "      <td>Hotel</td>\n",
       "      <td>297</td>\n",
       "      <td>8.081680</td>\n",
       "      <td>77.548801</td>\n",
       "      <td>4ce904f80f196dcb8b5e49ae</td>\n",
       "    </tr>\n",
       "    <tr>\n",
       "      <th>4</th>\n",
       "      <td>Hotel Annapoorna</td>\n",
       "      <td>Indian Restaurant</td>\n",
       "      <td>206</td>\n",
       "      <td>8.080879</td>\n",
       "      <td>77.550835</td>\n",
       "      <td>50ed3a39e4b0ac50005eb3f1</td>\n",
       "    </tr>\n",
       "  </tbody>\n",
       "</table>\n",
       "</div>"
      ],
      "text/plain": [
       "               name         categories  distance       lat        lng  \\\n",
       "0     Hotel SeaView              Hotel       371  8.082333  77.551217   \n",
       "1     Hotel Sarvana              Hotel       179  8.080581  77.550861   \n",
       "2     Hotel Samudra              Motel       201  8.080642  77.551102   \n",
       "3   Hotel Sun World              Hotel       297  8.081680  77.548801   \n",
       "4  Hotel Annapoorna  Indian Restaurant       206  8.080879  77.550835   \n",
       "\n",
       "                         id  \n",
       "0  4cd42e2c558a370412d0c5a6  \n",
       "1  4db052544df03036e8b9d615  \n",
       "2  4d3c66e414aa8cfa4641a95e  \n",
       "3  4ce904f80f196dcb8b5e49ae  \n",
       "4  50ed3a39e4b0ac50005eb3f1  "
      ]
     },
     "execution_count": 6,
     "metadata": {},
     "output_type": "execute_result"
    }
   ],
   "source": [
    "# keep only columns that include venue name, and anything that is associated with location\n",
    "filtered_columns = ['name', 'categories'] + [col for col in dataframe.columns if col.startswith('location.')] + ['id']\n",
    "dataframe_filtered = dataframe.loc[:, filtered_columns]\n",
    "\n",
    "# function that extracts the category of the venue\n",
    "\n",
    "def get_category_type(row):\n",
    "    try:\n",
    "        categories_list = row['categories']\n",
    "    except:\n",
    "        categories_list = row['venue.categories']\n",
    "        \n",
    "    if len(categories_list) == 0:\n",
    "        return None\n",
    "    else:\n",
    "        return categories_list[0]['name']\n",
    "\n",
    "    \n",
    "# filter the category for each row\n",
    "dataframe_filtered['categories'] = dataframe_filtered.apply(get_category_type, axis=1)\n",
    "\n",
    "  \n",
    "# clean column names by keeping only last term\n",
    "dataframe_filtered.columns = [column.split('.')[-1] for column in dataframe_filtered.columns]\n",
    "\n",
    "#dataframe_filtered\n",
    "hotels_df=dataframe_filtered[['name','categories','distance','lat','lng','id']]\n",
    "hotels_df.head()"
   ]
  },
  {
   "cell_type": "code",
   "execution_count": 7,
   "metadata": {},
   "outputs": [],
   "source": [
    "## 2.e Location of Hotels"
   ]
  },
  {
   "cell_type": "code",
   "execution_count": 8,
   "metadata": {},
   "outputs": [
    {
     "data": {
      "text/html": [
       "<div style=\"width:100%;\"><div style=\"position:relative;width:100%;height:0;padding-bottom:60%;\"><span style=\"color:#565656\">Make this Notebook Trusted to load map: File -> Trust Notebook</span><iframe src=\"about:blank\" style=\"position:absolute;width:100%;height:100%;left:0;top:0;border:none !important;\" data-html=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 onload=\"this.contentDocument.open();this.contentDocument.write(atob(this.getAttribute('data-html')));this.contentDocument.close();\" allowfullscreen webkitallowfullscreen mozallowfullscreen></iframe></div></div>"
      ],
      "text/plain": [
       "<folium.folium.Map at 0x1f35e2b7b38>"
      ]
     },
     "execution_count": 8,
     "metadata": {},
     "output_type": "execute_result"
    }
   ],
   "source": [
    "hotels_map = folium.Map(location=[latitude, longitude], zoom_start=16) # generate map centred around the Kanyakumari\n",
    "\n",
    "# add a red circle marker to represent the core location of kanyakumari\n",
    "folium.features.CircleMarker(\n",
    "    [latitude, longitude],\n",
    "    radius=10,\n",
    "    color='red',\n",
    "    popup='Kanyakumari',\n",
    "    fill = True,\n",
    "    fill_color = 'red',\n",
    "    fill_opacity = 0.6\n",
    ").add_to(hotels_map)\n",
    "\n",
    "# add the Italian restaurants as blue circle markers\n",
    "for lat, lng, label in zip(hotels_df.lat, hotels_df.lng, hotels_df.name):\n",
    "    folium.features.CircleMarker(\n",
    "        [lat, lng],\n",
    "        radius=5,\n",
    "        color='blue',\n",
    "        popup=label,\n",
    "        fill = True,\n",
    "        fill_color='blue',\n",
    "        fill_opacity=0.6\n",
    "    ).add_to(hotels_map)\n",
    "\n",
    "# display map\n",
    "hotels_map"
   ]
  },
  {
   "cell_type": "code",
   "execution_count": 9,
   "metadata": {},
   "outputs": [],
   "source": [
    "## More to come in next notebook- \"Battle of Neighbourhoods - Final\""
   ]
  },
  {
   "cell_type": "code",
   "execution_count": null,
   "metadata": {},
   "outputs": [],
   "source": []
  }
 ],
 "metadata": {
  "kernelspec": {
   "display_name": "Python 3",
   "language": "python",
   "name": "python3"
  },
  "language_info": {
   "codemirror_mode": {
    "name": "ipython",
    "version": 3
   },
   "file_extension": ".py",
   "mimetype": "text/x-python",
   "name": "python",
   "nbconvert_exporter": "python",
   "pygments_lexer": "ipython3",
   "version": "3.7.3"
  }
 },
 "nbformat": 4,
 "nbformat_minor": 2
}
